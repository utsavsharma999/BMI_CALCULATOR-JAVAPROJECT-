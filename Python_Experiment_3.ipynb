{
  "nbformat": 4,
  "nbformat_minor": 0,
  "metadata": {
    "colab": {
      "name": "Python Experiment-3.ipynb",
      "provenance": [],
      "authorship_tag": "ABX9TyNIvK5FZkYmAwH+HUCmH8Fn",
      "include_colab_link": true
    },
    "kernelspec": {
      "name": "python3",
      "display_name": "Python 3"
    },
    "language_info": {
      "name": "python"
    }
  },
  "cells": [
    {
      "cell_type": "markdown",
      "metadata": {
        "id": "view-in-github",
        "colab_type": "text"
      },
      "source": [
        "<a href=\"https://colab.research.google.com/github/utsavsharma999/BMI_CALCULATOR-JAVAPROJECT-/blob/main/Python_Experiment_3.ipynb\" target=\"_parent\"><img src=\"https://colab.research.google.com/assets/colab-badge.svg\" alt=\"Open In Colab\"/></a>"
      ]
    },
    {
      "cell_type": "markdown",
      "source": [
        "Identifying datatype in a LIST"
      ],
      "metadata": {
        "id": "bkFwHhJD7N_m"
      }
    },
    {
      "cell_type": "code",
      "source": [
        "# Creating a list\n",
        "listu=[\"Utsav\", \"Yash\", \"Tanmay\" , 2, 'Aryan' , \"20\" , '5']\n",
        "for a in listu:\n",
        "  print(type(a))"
      ],
      "metadata": {
        "colab": {
          "base_uri": "https://localhost:8080/"
        },
        "id": "GbUSqYlt5zRt",
        "outputId": "77bbc581-8300-4828-f755-279a55b19d78"
      },
      "execution_count": 6,
      "outputs": [
        {
          "output_type": "stream",
          "name": "stdout",
          "text": [
            "<class 'str'>\n",
            "<class 'str'>\n",
            "<class 'str'>\n",
            "<class 'int'>\n",
            "<class 'str'>\n",
            "<class 'str'>\n",
            "<class 'str'>\n"
          ]
        }
      ]
    },
    {
      "cell_type": "markdown",
      "source": [
        "Negative indexing in a List "
      ],
      "metadata": {
        "id": "lqzto9Gs8MTV"
      }
    },
    {
      "cell_type": "code",
      "source": [
        "listu=[\"Utsav\", \"Yash\", \"Tanmay\" , 2, 'Aryan' , \"20\" , '5']\n",
        "print(listu[-1])\n",
        "print(listu[-4])"
      ],
      "metadata": {
        "colab": {
          "base_uri": "https://localhost:8080/"
        },
        "id": "yJ9LwzQh7gi1",
        "outputId": "347f11a7-abd0-45bc-ee32-05e9969e737c"
      },
      "execution_count": 10,
      "outputs": [
        {
          "output_type": "stream",
          "name": "stdout",
          "text": [
            "5\n",
            "2\n"
          ]
        }
      ]
    },
    {
      "cell_type": "markdown",
      "source": [
        "Range in a LIST\n",
        "\n",
        "# Note : In range a to b it will include a but not include b "
      ],
      "metadata": {
        "id": "CHxIF8g88ZRF"
      }
    },
    {
      "cell_type": "code",
      "source": [
        "listu=[\"Utsav\", \"Yash\", \"Tanmay\" , 2, 'Aryan' , \"20\" , '5']\n",
        "print(listu[2:5])\n",
        "print(listu[-4:-1])\n",
        "print(listu[-1:-4])\n",
        "print(listu[:])\n",
        "print(listu[2:])\n",
        "print(listu[:1]) \n",
        "for x in listu:\n",
        "  print(x)\n",
        "# List always goes from Left to Right always remember and in the last execution \n",
        "# the output is Empty ."
      ],
      "metadata": {
        "colab": {
          "base_uri": "https://localhost:8080/"
        },
        "id": "vYjKvo5V8b2m",
        "outputId": "ef04467e-8faa-4a2e-a89f-ddd6d2cf438e"
      },
      "execution_count": 24,
      "outputs": [
        {
          "output_type": "stream",
          "name": "stdout",
          "text": [
            "['Tanmay', 2, 'Aryan']\n",
            "[2, 'Aryan', '20']\n",
            "[]\n",
            "['Utsav', 'Yash', 'Tanmay', 2, 'Aryan', '20', '5']\n",
            "['Tanmay', 2, 'Aryan', '20', '5']\n",
            "['Utsav']\n",
            "Utsav\n",
            "Yash\n",
            "Tanmay\n",
            "2\n",
            "Aryan\n",
            "20\n",
            "5\n"
          ]
        }
      ]
    },
    {
      "cell_type": "markdown",
      "source": [
        "Find wheather an item is in a List or not\n",
        "Replacing Multiple items in a list"
      ],
      "metadata": {
        "id": "4QfnPaGw-c7l"
      }
    },
    {
      "cell_type": "code",
      "source": [
        "listu=[\"Utsav\", \"Yash\", \"Tanmay\" , 2, 'Aryan' , \"20\" , '5']\n",
        "\n",
        "if \"Utsavv\" in listu:\n",
        "  print(\"Found\")\n",
        "listu[1]=\"Harsh\"\n",
        "print(listu)"
      ],
      "metadata": {
        "colab": {
          "base_uri": "https://localhost:8080/"
        },
        "id": "iFnjJVYB-hgd",
        "outputId": "e40039b3-b61b-40a9-d5a7-a82a865d0b91"
      },
      "execution_count": 28,
      "outputs": [
        {
          "output_type": "stream",
          "name": "stdout",
          "text": [
            "['Utsav', 'Harsh', 'Tanmay', 2, 'Aryan', '20', '5']\n"
          ]
        }
      ]
    },
    {
      "cell_type": "markdown",
      "source": [
        "Inserting mutiple items in list"
      ],
      "metadata": {
        "id": "UpYkeKai_eDl"
      }
    },
    {
      "cell_type": "code",
      "source": [
        "listu=[\"Utsav\", \"Yash\", \"Tanmay\" , 2, 'Aryan' , \"20\" , '5']\n",
        "listu[2:3]=[\"Shrishti\", \"Vaishnavi\"]\n",
        "print(listu)\n",
        "listu[2:5]=[\"Shrishti\",\"Vaishnavi\",\"Yuvraj\"]\n",
        "print(listu)"
      ],
      "metadata": {
        "colab": {
          "base_uri": "https://localhost:8080/"
        },
        "id": "pOL5aDG6_qtL",
        "outputId": "e54d0d10-284c-4632-aa32-ef0831730016"
      },
      "execution_count": 34,
      "outputs": [
        {
          "output_type": "stream",
          "name": "stdout",
          "text": [
            "['Utsav', 'Yash', 'Shrishti', 'Vaishnavi', 2, 'Aryan', '20', '5']\n",
            "['Utsav', 'Yash', 'Shrishti', 'Vaishnavi', 'Yuvraj', 'Aryan', '20', '5']\n"
          ]
        }
      ]
    },
    {
      "cell_type": "markdown",
      "source": [
        "Append and Insert in a list "
      ],
      "metadata": {
        "id": "4lt81L2vAcsd"
      }
    },
    {
      "cell_type": "code",
      "source": [
        "listu=[\"Utsav\", \"Yash\", \"Tanmay\" , 2, 'Aryan' , \"20\" , '5']\n",
        "#insert\n",
        "listu.insert(2,\"Ladki aa gyi beech me :-)\")\n",
        "print(listu)\n",
        "#append : This will insert at the last \n",
        "listu.append(\"Mansi\")\n",
        "print(listu)"
      ],
      "metadata": {
        "colab": {
          "base_uri": "https://localhost:8080/"
        },
        "id": "cd7nt2JPAgQd",
        "outputId": "91c19a89-067c-4e43-f3a3-ced94d30e526"
      },
      "execution_count": 39,
      "outputs": [
        {
          "output_type": "stream",
          "name": "stdout",
          "text": [
            "['Utsav', 'Yash', 'Ladki aa gyi beech me :-)', 'Tanmay', 2, 'Aryan', '20', '5']\n",
            "['Utsav', 'Yash', 'Ladki aa gyi beech me :-)', 'Tanmay', 2, 'Aryan', '20', '5', 'Mansi']\n"
          ]
        }
      ]
    },
    {
      "cell_type": "markdown",
      "source": [
        "Finding index of an element"
      ],
      "metadata": {
        "id": "--QaPZw0B21F"
      }
    },
    {
      "cell_type": "code",
      "source": [
        "listu=[\"Utsav\", \"Yash\", \"Tanmay\" , 2, 'Aryan' , \"20\" , '5']\n",
        "print(listu.index(\"20\"))"
      ],
      "metadata": {
        "colab": {
          "base_uri": "https://localhost:8080/"
        },
        "id": "2EB8GITRB6Xr",
        "outputId": "0f3136e7-fa78-4aa5-e222-64744b5b0903"
      },
      "execution_count": 42,
      "outputs": [
        {
          "output_type": "stream",
          "name": "stdout",
          "text": [
            "5\n"
          ]
        }
      ]
    },
    {
      "cell_type": "markdown",
      "source": [
        "Extend a list "
      ],
      "metadata": {
        "id": "PtHVd2O0CO4r"
      }
    },
    {
      "cell_type": "code",
      "source": [
        "listu=[\"Utsav\", \"Yash\", \"Tanmay\" , 2, 'Aryan' , \"20\" , '5']\n",
        "listy=[\"Chocklate\",\"Strawberry\",\"Vannila\"]\n",
        "\n",
        "listu.extend(listy)\n",
        "print(listu)"
      ],
      "metadata": {
        "colab": {
          "base_uri": "https://localhost:8080/"
        },
        "id": "rnhJWXW_CQYc",
        "outputId": "f19d7188-0761-4088-e5a7-ad89745d6e18"
      },
      "execution_count": 47,
      "outputs": [
        {
          "output_type": "stream",
          "name": "stdout",
          "text": [
            "['Utsav', 'Yash', 'Tanmay', 2, 'Aryan', '20', '5', 'Chocklate', 'Strawberry', 'Vannila']\n"
          ]
        }
      ]
    },
    {
      "cell_type": "markdown",
      "source": [
        "Remove a specified ITEM : Works with the Item VALUE NOT WITH THE INDEX\n",
        "POP : Pop works with the index"
      ],
      "metadata": {
        "id": "2IYoVdL0DP_N"
      }
    },
    {
      "cell_type": "code",
      "source": [
        "listu=[\"Utsav\", \"Yash\", \"Tanmay\" , 2, 'Aryan' , \"20\" , '5']\n",
        "listu.remove(\"Yash\")\n",
        "print(listu)\n",
        "listu.pop(1)\n",
        "print(listu)"
      ],
      "metadata": {
        "colab": {
          "base_uri": "https://localhost:8080/"
        },
        "id": "OH0q2myLDSFc",
        "outputId": "d4993082-d37d-4fa6-cd67-5566b29726da"
      },
      "execution_count": 49,
      "outputs": [
        {
          "output_type": "stream",
          "name": "stdout",
          "text": [
            "['Utsav', 'Tanmay', 2, 'Aryan', '20', '5']\n",
            "['Utsav', 2, 'Aryan', '20', '5']\n"
          ]
        }
      ]
    },
    {
      "cell_type": "markdown",
      "source": [
        "To delete a Whole lst"
      ],
      "metadata": {
        "id": "5kFphoZ9D610"
      }
    },
    {
      "cell_type": "code",
      "source": [
        "listu=[\"Utsav\", \"Yash\", \"Tanmay\" , 2, 'Aryan' , \"20\" , '5']\n",
        "print(listu)\n",
        "del listu\n",
        "print(listu) \n",
        "# this will give us an error"
      ],
      "metadata": {
        "colab": {
          "base_uri": "https://localhost:8080/",
          "height": 217
        },
        "id": "r_e7akRxD-_0",
        "outputId": "df42decd-9177-428f-9b2f-585d29867857"
      },
      "execution_count": 50,
      "outputs": [
        {
          "output_type": "stream",
          "name": "stdout",
          "text": [
            "['Utsav', 'Yash', 'Tanmay', 2, 'Aryan', '20', '5']\n"
          ]
        },
        {
          "output_type": "error",
          "ename": "NameError",
          "evalue": "ignored",
          "traceback": [
            "\u001b[0;31m---------------------------------------------------------------------------\u001b[0m",
            "\u001b[0;31mNameError\u001b[0m                                 Traceback (most recent call last)",
            "\u001b[0;32m<ipython-input-50-e56100d04156>\u001b[0m in \u001b[0;36m<module>\u001b[0;34m()\u001b[0m\n\u001b[1;32m      2\u001b[0m \u001b[0mprint\u001b[0m\u001b[0;34m(\u001b[0m\u001b[0mlistu\u001b[0m\u001b[0;34m)\u001b[0m\u001b[0;34m\u001b[0m\u001b[0;34m\u001b[0m\u001b[0m\n\u001b[1;32m      3\u001b[0m \u001b[0;32mdel\u001b[0m \u001b[0mlistu\u001b[0m\u001b[0;34m\u001b[0m\u001b[0;34m\u001b[0m\u001b[0m\n\u001b[0;32m----> 4\u001b[0;31m \u001b[0mprint\u001b[0m\u001b[0;34m(\u001b[0m\u001b[0mlistu\u001b[0m\u001b[0;34m)\u001b[0m\u001b[0;34m\u001b[0m\u001b[0;34m\u001b[0m\u001b[0m\n\u001b[0m",
            "\u001b[0;31mNameError\u001b[0m: name 'listu' is not defined"
          ]
        }
      ]
    },
    {
      "cell_type": "markdown",
      "source": [
        "To clear a list"
      ],
      "metadata": {
        "id": "ebk-almjEOyc"
      }
    },
    {
      "cell_type": "code",
      "source": [
        "listu=[\"Utsav\", \"Yash\", \"Tanmay\" , 2, 'Aryan' , \"20\" , '5']\n",
        "listu.clear()\n",
        "print(listu)"
      ],
      "metadata": {
        "colab": {
          "base_uri": "https://localhost:8080/"
        },
        "id": "FKQrEHMDEQ0b",
        "outputId": "0f5beeab-3265-43fa-ac35-58b75f768892"
      },
      "execution_count": 55,
      "outputs": [
        {
          "output_type": "stream",
          "name": "stdout",
          "text": [
            "[]\n"
          ]
        }
      ]
    },
    {
      "cell_type": "markdown",
      "source": [
        "Print list items values with their respective index"
      ],
      "metadata": {
        "id": "v5XoD4ESEoYz"
      }
    },
    {
      "cell_type": "code",
      "source": [
        "listu=[\"Utsav\", \"Yash\", \"Tanmay\" , 2, 'Aryan' , \"20\" , '5']\n",
        "y = 0\n",
        "for  x in listu:\n",
        "  print(y,x)\n",
        "  y=y+1\n",
        "print(\"--------------------------------------------------------\")\n",
        "for a in listu:\n",
        "  print(listu.index(a),a)\n",
        "print(\"--------------------------------------------------------\")\n",
        "for i in range (len(listu)):\n",
        "  print(\"listu [\",i,\"]\",listu[i])"
      ],
      "metadata": {
        "colab": {
          "base_uri": "https://localhost:8080/"
        },
        "id": "fBQckjt6EwqT",
        "outputId": "12d82e7c-3020-4ef3-f5d8-4caee84a7d52"
      },
      "execution_count": 65,
      "outputs": [
        {
          "output_type": "stream",
          "name": "stdout",
          "text": [
            "0 Utsav\n",
            "1 Yash\n",
            "2 Tanmay\n",
            "3 2\n",
            "4 Aryan\n",
            "5 20\n",
            "6 5\n",
            "--------------------------------------------------------\n",
            "0 Utsav\n",
            "1 Yash\n",
            "2 Tanmay\n",
            "3 2\n",
            "4 Aryan\n",
            "5 20\n",
            "6 5\n",
            "--------------------------------------------------------\n",
            "listu [ 0 ] Utsav\n",
            "listu [ 1 ] Yash\n",
            "listu [ 2 ] Tanmay\n",
            "listu [ 3 ] 2\n",
            "listu [ 4 ] Aryan\n",
            "listu [ 5 ] 20\n",
            "listu [ 6 ] 5\n"
          ]
        }
      ]
    },
    {
      "cell_type": "code",
      "source": [
        "listu=[\"Utsav\", \"Yash\", \"Tanmay\" , 2, 'Aryan' , \"20\" , '5']\n",
        "x=0\n",
        "while x < len(listu):\n",
        "  print(listu[x])\n",
        "  x +=1"
      ],
      "metadata": {
        "colab": {
          "base_uri": "https://localhost:8080/"
        },
        "id": "-wCmmAUTFK06",
        "outputId": "c76dd9a4-49bf-43d2-a8ec-3ea73d8aa456"
      },
      "execution_count": 75,
      "outputs": [
        {
          "output_type": "stream",
          "name": "stdout",
          "text": [
            "Utsav\n",
            "Yash\n",
            "Tanmay\n",
            "2\n",
            "Aryan\n",
            "20\n",
            "5\n"
          ]
        }
      ]
    },
    {
      "cell_type": "markdown",
      "source": [
        "Sorting a list \n",
        "By default it will Sort in Ascending order\n",
        "# Note this will not sort the list if there are multiple datatypes are there so it will show an error"
      ],
      "metadata": {
        "id": "X7LnLXbqIzey"
      }
    },
    {
      "cell_type": "code",
      "source": [
        "listu=[\"Utsav\", \"Yash\", \"Tanmay\" , 2, 'Aryan' , \"20\" , '5']\n",
        "listu.sort()\n",
        "print(listu)"
      ],
      "metadata": {
        "colab": {
          "base_uri": "https://localhost:8080/",
          "height": 200
        },
        "id": "Wsz4qnBDI6Dy",
        "outputId": "28f56006-8c2d-4dec-ea4c-cc107538ed0b"
      },
      "execution_count": 77,
      "outputs": [
        {
          "output_type": "error",
          "ename": "TypeError",
          "evalue": "ignored",
          "traceback": [
            "\u001b[0;31m---------------------------------------------------------------------------\u001b[0m",
            "\u001b[0;31mTypeError\u001b[0m                                 Traceback (most recent call last)",
            "\u001b[0;32m<ipython-input-77-42cd09f81523>\u001b[0m in \u001b[0;36m<module>\u001b[0;34m()\u001b[0m\n\u001b[1;32m      1\u001b[0m \u001b[0mlistu\u001b[0m\u001b[0;34m=\u001b[0m\u001b[0;34m[\u001b[0m\u001b[0;34m\"Utsav\"\u001b[0m\u001b[0;34m,\u001b[0m \u001b[0;34m\"Yash\"\u001b[0m\u001b[0;34m,\u001b[0m \u001b[0;34m\"Tanmay\"\u001b[0m \u001b[0;34m,\u001b[0m \u001b[0;36m2\u001b[0m\u001b[0;34m,\u001b[0m \u001b[0;34m'Aryan'\u001b[0m \u001b[0;34m,\u001b[0m \u001b[0;34m\"20\"\u001b[0m \u001b[0;34m,\u001b[0m \u001b[0;34m'5'\u001b[0m\u001b[0;34m]\u001b[0m\u001b[0;34m\u001b[0m\u001b[0;34m\u001b[0m\u001b[0m\n\u001b[0;32m----> 2\u001b[0;31m \u001b[0mlistu\u001b[0m\u001b[0;34m.\u001b[0m\u001b[0msort\u001b[0m\u001b[0;34m(\u001b[0m\u001b[0;34m)\u001b[0m\u001b[0;34m\u001b[0m\u001b[0;34m\u001b[0m\u001b[0m\n\u001b[0m\u001b[1;32m      3\u001b[0m \u001b[0mprint\u001b[0m\u001b[0;34m(\u001b[0m\u001b[0mlistu\u001b[0m\u001b[0;34m)\u001b[0m\u001b[0;34m\u001b[0m\u001b[0;34m\u001b[0m\u001b[0m\n",
            "\u001b[0;31mTypeError\u001b[0m: '<' not supported between instances of 'int' and 'str'"
          ]
        }
      ]
    },
    {
      "cell_type": "markdown",
      "source": [
        "Sort in descending order"
      ],
      "metadata": {
        "id": "Nc2RUPUfJ-Di"
      }
    },
    {
      "cell_type": "code",
      "source": [
        "listu=[\"Utsav\", \"Yash\", \"Tanmay\" , \"2\", 'Aryan' , \"20\" , '5']\n",
        "listu.sort(reverse = True)\n",
        "print(listu)\n"
      ],
      "metadata": {
        "colab": {
          "base_uri": "https://localhost:8080/"
        },
        "id": "DFvLsO0KJoi7",
        "outputId": "1e9cde61-b722-43f5-81a4-b7dbef1a1349"
      },
      "execution_count": 83,
      "outputs": [
        {
          "output_type": "stream",
          "name": "stdout",
          "text": [
            "['Yash', 'Utsav', 'Tanmay', 'Aryan', '5', '20', '2']\n"
          ]
        }
      ]
    },
    {
      "cell_type": "markdown",
      "source": [
        "Reverse a list"
      ],
      "metadata": {
        "id": "Vd0YqEIBKXXy"
      }
    },
    {
      "cell_type": "code",
      "source": [
        "listu=[\"Utsav\", \"Yash\", \"Tanmay\" , 2, 'Aryan' , \"20\" , '5']\n",
        "listu.reverse()\n",
        "print(listu)\n",
        "str = \"Naman\" [::-1]\n",
        "print(str)"
      ],
      "metadata": {
        "colab": {
          "base_uri": "https://localhost:8080/"
        },
        "id": "6tzJWGrgKjpa",
        "outputId": "79124788-c9fd-4aac-8dc5-167c850fd0c2"
      },
      "execution_count": 86,
      "outputs": [
        {
          "output_type": "stream",
          "name": "stdout",
          "text": [
            "['5', '20', 'Aryan', 2, 'Tanmay', 'Yash', 'Utsav']\n",
            "namaN\n"
          ]
        }
      ]
    },
    {
      "cell_type": "code",
      "source": [
        "listu=[\"Utsav\", \"Yash\", \"Tanmay\" , 2, 'Aryan' , \"20\" , '5']\n",
        "newlist  = listu.copy()\n",
        "print(newlist)\n",
        "listu.append(\"Mihir\")\n",
        "print(newlist)\n",
        "print(listu)\n",
        "\n",
        "print(\"---------------------------------------------\")\n",
        "\n",
        "listu=[\"Utsav\", \"Yash\", \"Tanmay\" , 2, 'Aryan' , \"20\" , '5']\n",
        "mylist=listu\n",
        "listu.append(\"Mihir\")\n",
        "print(mylist)\n",
        "print(listu)"
      ],
      "metadata": {
        "colab": {
          "base_uri": "https://localhost:8080/"
        },
        "id": "4OtaopoAMd6U",
        "outputId": "1720c6ca-5607-4562-ee41-c96e9c31320c"
      },
      "execution_count": 87,
      "outputs": [
        {
          "output_type": "stream",
          "name": "stdout",
          "text": [
            "['Utsav', 'Yash', 'Tanmay', 2, 'Aryan', '20', '5']\n",
            "['Utsav', 'Yash', 'Tanmay', 2, 'Aryan', '20', '5']\n",
            "['Utsav', 'Yash', 'Tanmay', 2, 'Aryan', '20', '5', 'Mihir']\n",
            "---------------------------------------------\n",
            "['Utsav', 'Yash', 'Tanmay', 2, 'Aryan', '20', '5', 'Mihir']\n",
            "['Utsav', 'Yash', 'Tanmay', 2, 'Aryan', '20', '5', 'Mihir']\n"
          ]
        }
      ]
    },
    {
      "cell_type": "markdown",
      "source": [
        ""
      ],
      "metadata": {
        "id": "z8h5pqglKCsK"
      }
    }
  ]
}